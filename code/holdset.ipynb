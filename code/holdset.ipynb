{
 "cells": [
  {
   "cell_type": "markdown",
   "metadata": {},
   "source": [
    "## Task 3: Testing on Holdout Set\n",
    "\n",
    "In this task, we will create a **holdout set** from the **test dataset** to simulate data shifts and performance degradation. The **holdout set** will be different from the **validation** and **testing sets** and will help us evaluate how well the model generalizes to unseen data with simulated shifts.\n",
    "\n"
   ]
  },
  {
   "cell_type": "code",
   "execution_count": 6,
   "metadata": {},
   "outputs": [],
   "source": [
    "import pandas as pd\n",
    "from sklearn.model_selection import train_test_split \n",
    "from sklearn.preprocessing import MinMaxScaler"
   ]
  },
  {
   "cell_type": "markdown",
   "metadata": {},
   "source": [
    "### Steps to Create and Evaluate the Holdout Set\n",
    "\n",
    "- 1. Split the Test Set into Holdout and Validation Set\n",
    "\n",
    "First, we split the **test set** into two parts: **holdout set** and **validation set**. This ensures that the **holdout set** is separate from the testing and validation data used during model training.\n"
   ]
  },
  {
   "cell_type": "code",
   "execution_count": null,
   "metadata": {},
   "outputs": [
    {
     "ename": "SyntaxError",
     "evalue": "invalid syntax (2725527205.py, line 3)",
     "output_type": "error",
     "traceback": [
      "\u001b[0;36m  Cell \u001b[0;32mIn[8], line 3\u001b[0;36m\u001b[0m\n\u001b[0;31m    - 1. Split the Test Set into Holdout and Validation Set\u001b[0m\n\u001b[0m         ^\u001b[0m\n\u001b[0;31mSyntaxError\u001b[0m\u001b[0;31m:\u001b[0m invalid syntax\n"
     ]
    }
   ],
   "source": []
  },
  {
   "cell_type": "code",
   "execution_count": 4,
   "metadata": {},
   "outputs": [
    {
     "name": "stdout",
     "output_type": "stream",
     "text": [
      "x_test shape: (21892, 187)\n",
      "y_test shape: (21892, 1)\n",
      "Validation set size: 10946\n",
      "Holdout set size: 10946\n"
     ]
    }
   ],
   "source": [
    "# Load the test data\n",
    "x_test = pd.read_csv(\"../data/processed/x_test.csv\", header=None)\n",
    "y_test = pd.read_csv(\"../data/processed/y_test.csv\", header=None)\n",
    "\n",
    "# Check the shape of the loaded data\n",
    "print(f\"x_test shape: {x_test.shape}\")\n",
    "print(f\"y_test shape: {y_test.shape}\")\n",
    "\n",
    "# Split the test set into holdout and validation sets (50-50 split)\n",
    "x_val, x_holdout, y_val, y_holdout = train_test_split(x_test, y_test, test_size=0.5, random_state=42)\n",
    "\n",
    "print(f\"Validation set size: {x_val.shape[0]}\")\n",
    "print(f\"Holdout set size: {x_holdout.shape[0]}\")"
   ]
  },
  {
   "cell_type": "code",
   "execution_count": 7,
   "metadata": {},
   "outputs": [
    {
     "name": "stdout",
     "output_type": "stream",
     "text": [
      "Scaled holdout set shape: (10946, 187)\n"
     ]
    }
   ],
   "source": [
    "\n",
    "# Initialize the Min-Max scaler\n",
    "scaler = MinMaxScaler(feature_range=(0, 1))\n",
    "\n",
    "# Apply scaling to the holdout set\n",
    "x_holdout = scaler.fit_transform(x_holdout)\n",
    "\n",
    "# Check the scaling has been applied correctly\n",
    "print(f\"Scaled holdout set shape: {x_holdout.shape}\")"
   ]
  },
  {
   "cell_type": "code",
   "execution_count": null,
   "metadata": {},
   "outputs": [],
   "source": []
  }
 ],
 "metadata": {
  "kernelspec": {
   "display_name": "Python 3",
   "language": "python",
   "name": "python3"
  },
  "language_info": {
   "codemirror_mode": {
    "name": "ipython",
    "version": 3
   },
   "file_extension": ".py",
   "mimetype": "text/x-python",
   "name": "python",
   "nbconvert_exporter": "python",
   "pygments_lexer": "ipython3",
   "version": "3.12.2"
  }
 },
 "nbformat": 4,
 "nbformat_minor": 2
}
